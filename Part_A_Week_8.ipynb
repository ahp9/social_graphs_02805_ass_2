{
 "cells": [
  {
   "cell_type": "markdown",
   "id": "861b6c96",
   "metadata": {},
   "source": [
    "*Exercise*: Sentiment distribution. \n",
    "> \n",
    "> * Download the LabMT wordlist. It's available as supplementary material from [Temporal Patterns of Happiness and Information in a Global Social Network: Hedonometrics and Twitter](http://journals.plos.org/plosone/article?id=10.1371/journal.pone.0026752) (Data Set S1). Describe briefly how the list was generated.\n",
    "> * Based on the LabMT word list, write a function that calculates sentiment given a list of tokens (the tokens should be lower case, etc)."
   ]
  },
  {
   "cell_type": "code",
   "execution_count": 6,
   "id": "a599265e",
   "metadata": {},
   "outputs": [
    {
     "name": "stderr",
     "output_type": "stream",
     "text": [
      "[nltk_data] Downloading package punkt to\n",
      "[nltk_data]     C:\\Users\\astri\\AppData\\Roaming\\nltk_data...\n",
      "[nltk_data]   Package punkt is already up-to-date!\n"
     ]
    },
    {
     "data": {
      "text/plain": [
       "True"
      ]
     },
     "execution_count": 6,
     "metadata": {},
     "output_type": "execute_result"
    }
   ],
   "source": [
    "import pandas as pd\n",
    "import os\n",
    "import networkx as nx\n",
    "import nltk\n",
    "import numpy as np\n",
    "import matplotlib.pyplot as plt\n",
    "import re\n",
    "\n",
    "nltk.download('punkt')"
   ]
  },
  {
   "cell_type": "code",
   "execution_count": 3,
   "id": "ecd0f3bb",
   "metadata": {},
   "outputs": [],
   "source": [
    "labmt = pd.read_csv(\"Data_Set_S1.txt\", sep='\\t', skiprows=3)\n",
    "\n",
    "word_to_scores = labmt.set_index('word').to_dict(orient='index')\n",
    "\n",
    "def calculate_sentiment(tokens):\n",
    "    \"\"\"\n",
    "    Calculate average sentiment for a list of tokens based on LabMT word list.\n",
    "    \"\"\"\n",
    "    tokens = [t.lower() for t in tokens]\n",
    "    \n",
    "    sentiment_score = 0\n",
    "    for token in tokens:\n",
    "        if token in word_to_scores:\n",
    "            sentiment_score += word_to_scores[token]['happiness_average']\n",
    "        else:\n",
    "            sentiment_score += 0\n",
    "    \n",
    "    return sentiment_score  "
   ]
  },
  {
   "cell_type": "markdown",
   "id": "38343b1e",
   "metadata": {},
   "source": [
    "> * Iterage over the nodes in your network, tokenize each page, and calculate sentiment every single page. Now you have sentiment as a new nodal property.\n",
    "> * Calculate the average sentiment across all the pages. Also calculate the median, variance, 25th percentile, 75th percentile."
   ]
  },
  {
   "cell_type": "code",
   "execution_count": 7,
   "id": "ef6d556f",
   "metadata": {},
   "outputs": [
    {
     "name": "stdout",
     "output_type": "stream",
     "text": [
      "Directed graph: 488 nodes, 8077 edges\n"
     ]
    }
   ],
   "source": [
    "DATA_DIR = \"performers\"   \n",
    "WORD_RE = re.compile(r\"\\w+\")\n",
    "LINK_RE = re.compile(r\"\\[\\[([^\\]|#]+)\")  \n",
    "\n",
    "def file_to_title(fname):\n",
    "    \"\"\"Convert filename like 'The_Beatles.txt' -> 'The Beatles'\"\"\"\n",
    "    return fname.replace(\".txt\", \"\").replace(\"_\", \" \")\n",
    "\n",
    "def normalize(title):\n",
    "    \"\"\"Normalize artist name for comparison\"\"\"\n",
    "    return re.sub(r\"[^a-z0-9]+\", \"\", title.lower())\n",
    "\n",
    "# --- Read all artist files and build name maps ---\n",
    "files = [f for f in os.listdir(DATA_DIR) if f.endswith(\".txt\")]\n",
    "performers = [file_to_title(f) for f in files]\n",
    "norm2canon = {normalize(t): t for t in performers}\n",
    "\n",
    "# --- Create a directed graph and fill it ---\n",
    "graph = nx.DiGraph()\n",
    "graph.add_nodes_from(performers)\n",
    "\n",
    "for fname in files:\n",
    "    src = file_to_title(fname)\n",
    "    path = os.path.join(DATA_DIR, fname)\n",
    "\n",
    "    with open(path, \"r\", encoding=\"utf-8\") as fh:\n",
    "        text = fh.read()\n",
    "\n",
    "    # store full text (like your original code)\n",
    "    graph.nodes[src][\"text\"] = text\n",
    "    \n",
    "    # find outgoing links\n",
    "    unique_targets = set()\n",
    "    for raw in LINK_RE.findall(text):\n",
    "        tgt_norm = normalize(raw)\n",
    "        if tgt_norm in norm2canon:\n",
    "            dst = norm2canon[tgt_norm]\n",
    "            if dst != src:\n",
    "                unique_targets.add(dst)\n",
    "\n",
    "    # add edges\n",
    "    for dst in unique_targets:\n",
    "        graph.add_edge(src, dst)\n",
    "\n",
    "print(f\"Directed graph: {graph.number_of_nodes()} nodes, {graph.number_of_edges()} edges\")\n",
    "\n",
    "# --- Convert to undirected (optional, to simplify visualization) ---\n",
    "graph = graph.to_undirected()\n",
    "\n",
    "# --- Export to GEXF for visualization (e.g. in Gephi) ---\n",
    "nx.write_gexf(graph, \"graph.gexf\")"
   ]
  },
  {
   "cell_type": "code",
   "execution_count": null,
   "id": "d718f3e0",
   "metadata": {},
   "outputs": [],
   "source": [
    "for node in graph.nodes:\n",
    "    text = graph.nodes[node].get('text', '')\n",
    "    tokens = nltk.word_tokenize(text.lower()) \n",
    "    sentiment = calculate_sentiment(tokens)\n",
    "    graph.nodes[node]['sentiment'] = sentiment"
   ]
  },
  {
   "cell_type": "code",
   "execution_count": 21,
   "id": "27b9c9f2",
   "metadata": {},
   "outputs": [
    {
     "name": "stdout",
     "output_type": "stream",
     "text": [
      "Mean sentiment: 34871.14684426258\n",
      "Median sentiment: 29263.71999999982\n",
      "Variance sentiment: 483042284.5322286\n",
      "25th percentile sentiment: 19087.767499999773\n",
      "75th percentile sentiment: 44748.48500000083\n"
     ]
    }
   ],
   "source": [
    "sentiments = [graph.nodes[n]['sentiment'] for n in graph.nodes if graph.nodes[n]['sentiment'] is not None]\n",
    "\n",
    "mean_sent = np.mean(sentiments)\n",
    "median_sent = np.median(sentiments)\n",
    "variance_sent = np.var(sentiments)\n",
    "q25 = np.percentile(sentiments, 25)\n",
    "q75 = np.percentile(sentiments, 75)\n",
    "\n",
    "print(f\"Mean sentiment: {mean_sent}\")\n",
    "print(f\"Median sentiment: {median_sent}\")\n",
    "print(f\"Variance sentiment: {variance_sent}\")\n",
    "print(f\"25th percentile sentiment: {q25}\")\n",
    "print(f\"75th percentile sentiment: {q75}\")"
   ]
  },
  {
   "cell_type": "markdown",
   "id": "478f6980",
   "metadata": {},
   "source": [
    "> * Remember histograms? Create a histogram of all of the artists's associated page-sentiments. (And make it a nice histogram - use your histogram making skills from Week 2). Add the mean, meadian, ect from above to your plot."
   ]
  },
  {
   "cell_type": "code",
   "execution_count": 33,
   "id": "a03253e2",
   "metadata": {},
   "outputs": [
    {
     "data": {
      "image/png": "[encoded data removed]",
      "text/plain": [
       "<Figure size 640x480 with 1 Axes>"
      ]
     },
     "metadata": {},
     "output_type": "display_data"
    }
   ],
   "source": [
    "fig, ax = plt.subplots()\n",
    "ax.hist(sentiments, bins=30)\n",
    "ax.axvline(mean_sent, color='red', linestyle='--', linewidth=2, label=f\"Mean = {mean_sent:.2f}\")\n",
    "ax.axvline(median_sent, color='red', linestyle='-', linewidth=2, label=f\"Median = {median_sent:.2f}\")\n",
    "\n",
    "ax.set_xlabel(\"Sentiment\")\n",
    "ax.set_ylabel(\"Frequency\")\n",
    "ax.set_title(\"Sentiment Histogram\")\n",
    "\n",
    "ax.legend()\n",
    "plt.show()"
   ]
  },
  {
   "cell_type": "markdown",
   "id": "e511671c",
   "metadata": {},
   "source": [
    "> * Who are the 10 artists with happiest and saddest pages?"
   ]
  },
  {
   "cell_type": "code",
   "execution_count": 32,
   "id": "3fd94606",
   "metadata": {},
   "outputs": [
    {
     "name": "stdout",
     "output_type": "stream",
     "text": [
      "Happiest pages:\n",
      "- bob dylan\n",
      "- paul mccartney\n",
      "- queen (band)\n",
      "- the beach boys\n",
      "- the rolling stones\n",
      "- guns n' roses\n",
      "- the beatles\n",
      "- u2\n",
      "- elvis presley\n",
      "- david bowie\n",
      "\n",
      "Saddest pages:\n",
      "- john mayall & the bluesbreakers\n",
      "- parliament (band)\n",
      "- the boxtones\n",
      "- manfred mann chapter three\n",
      "- the b-52's\n",
      "- jet (australian band)\n",
      "- dallas green (musician)\n",
      "- poison (american band)\n",
      "- van zant (band)\n",
      "- dr. hook & the medicine show\n"
     ]
    }
   ],
   "source": [
    "sotred_pages = sorted(graph.nodes, key=lambda x: graph.nodes[x]['sentiment'], reverse=True)\n",
    "\n",
    "happiest_pages = sotred_pages[:10]\n",
    "saddest_pages = sotred_pages[-10:]\n",
    "\n",
    "print(\"Happiest pages:\")\n",
    "for page in happiest_pages:\n",
    "    print(f\"- {page}\")\n",
    "\n",
    "print(\"\\nSaddest pages:\")\n",
    "for page in saddest_pages:\n",
    "    print(f\"- {page}\")"
   ]
  }
 ],
 "metadata": {
  "kernelspec": {
   "display_name": "base",
   "language": "python",
   "name": "python3"
  },
  "language_info": {
   "codemirror_mode": {
    "name": "ipython",
    "version": 3
   },
   "file_extension": ".py",
   "mimetype": "text/x-python",
   "name": "python",
   "nbconvert_exporter": "python",
   "pygments_lexer": "ipython3",
   "version": "3.12.3"
  }
 },
 "nbformat": 4,
 "nbformat_minor": 5
}
